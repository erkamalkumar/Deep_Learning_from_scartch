{
  "nbformat": 4,
  "nbformat_minor": 0,
  "metadata": {
    "colab": {
      "provenance": [],
      "authorship_tag": "ABX9TyMJRRhod9RtwGYMp4+UMZtw",
      "include_colab_link": true
    },
    "kernelspec": {
      "name": "python3",
      "display_name": "Python 3"
    },
    "language_info": {
      "name": "python"
    }
  },
  "cells": [
    {
      "cell_type": "markdown",
      "metadata": {
        "id": "view-in-github",
        "colab_type": "text"
      },
      "source": [
        "<a href=\"https://colab.research.google.com/github/erkamalkumar/Deep_Learning_from_scartch/blob/main/Preliminaries.ipynb\" target=\"_parent\"><img src=\"https://colab.research.google.com/assets/colab-badge.svg\" alt=\"Open In Colab\"/></a>"
      ]
    },
    {
      "cell_type": "markdown",
      "source": [
        "## **Getting Started**\n",
        "```\n",
        "To start, we import the PyTorch library. Note that the package name is torch.\n",
        "```"
      ],
      "metadata": {
        "id": "s22Gd9tXdCGE"
      }
    },
    {
      "cell_type": "code",
      "source": [
        "import torch"
      ],
      "metadata": {
        "id": "92SnyBqmczz9"
      },
      "execution_count": 21,
      "outputs": []
    },
    {
      "cell_type": "markdown",
      "source": [
        "```\n",
        "A tensor represents a (possibly multi-dimensional) array of numerical values.\n",
        "With one axis, a tensor is called a vector. With two axes, a tensor is called a matrix. \n",
        "With K>2 axes, we drop the specialized names and just refer to the object as a \n",
        "Kth order tensor.\n",
        " ```"
      ],
      "metadata": {
        "id": "b0uuvetrdhcw"
      }
    },
    {
      "cell_type": "markdown",
      "source": [
        "```\n",
        "PyTorch provides a variety of functions for creating new tensors prepopulated with values.\n",
        "For example, by invoking arange(n), we can create a vector of evenly spaced values, \n",
        "starting at 0 (included) and ending at n (not included). By default, the interval size is 1. \n",
        "Unless otherwise specified, new tensors are stored in main memory and designated for CPU-based computation.\n",
        "```"
      ],
      "metadata": {
        "id": "DIAeJ3v1d-60"
      }
    },
    {
      "cell_type": "code",
      "source": [
        "x = torch.arange(12, dtype=torch.float32)\n",
        "x"
      ],
      "metadata": {
        "colab": {
          "base_uri": "https://localhost:8080/"
        },
        "id": "EBfhmAGkdZB8",
        "outputId": "ab34da82-6bef-48ae-9c9d-2d26265a834a"
      },
      "execution_count": 22,
      "outputs": [
        {
          "output_type": "execute_result",
          "data": {
            "text/plain": [
              "tensor([ 0.,  1.,  2.,  3.,  4.,  5.,  6.,  7.,  8.,  9., 10., 11.])"
            ]
          },
          "metadata": {},
          "execution_count": 22
        }
      ]
    },
    {
      "cell_type": "code",
      "source": [],
      "metadata": {
        "id": "i4pio6ehecRV"
      },
      "execution_count": null,
      "outputs": []
    }
  ]
}